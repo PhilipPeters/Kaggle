{
 "cells": [
  {
   "cell_type": "code",
   "execution_count": 1,
   "metadata": {},
   "outputs": [],
   "source": [
    "import sys\n",
    "%run helper.ipynb\n",
    "class board_obj(object):\n",
    "    def __init__(self):\n",
    "        self.board = create_zero()\n",
    "        self.turn = 1\n",
    "    def move(self, col):\n",
    "        print('boardscore')\n",
    "        print(evaluate(self.board))\n",
    "        if check_valid(self.board) == False:\n",
    "            print('Error')\n",
    "            sys.exit()\n",
    "        bol = check_valid_move(self.board, col)\n",
    "        if bol == False:\n",
    "            col = valid_move(self.board)            \n",
    "        x = fall(self.board, col)\n",
    "        self.board[x][col] = self.turn\n",
    "        self.turn = 3 - self.turn\n",
    "        \n",
    "    \n",
    "    def copy(self):\n",
    "        b = board_obj()\n",
    "        b.board = self.board.copy()\n",
    "        b.turn = self.turn\n",
    "        return b\n",
    "    \n",
    "    \n",
    "    "
   ]
  },
  {
   "cell_type": "code",
   "execution_count": 2,
   "metadata": {},
   "outputs": [
    {
     "name": "stdout",
     "output_type": "stream",
     "text": [
      "boardscore\n",
      "Not finished Game\n",
      "boardscore\n",
      "Not finished Game\n",
      "boardscore\n",
      "Not finished Game\n",
      "boardscore\n",
      "Not finished Game\n",
      "boardscore\n",
      "Not finished Game\n",
      "boardscore\n",
      "Not finished Game\n",
      "boardscore\n",
      "Not finished Game\n",
      "boardscore\n",
      "Not finished Game\n",
      "boardscore\n",
      "Not finished Game\n",
      "boardscore\n",
      "Not finished Game\n",
      "boardscore\n",
      "Not finished Game\n",
      "2\n"
     ]
    }
   ],
   "source": [
    "\"\"\"b = board_obj()\n",
    "b.move(0)\n",
    "b.move(1)\n",
    "b.move(1)\n",
    "b.move(1)\n",
    "b.move(2)\n",
    "b.move(2)\n",
    "b.move(2)\n",
    "b.move(3)\n",
    "b.move(3)\n",
    "b.move(3)\n",
    "b.move(3)\n",
    "b.board = b.board\n",
    "#print(b.check_win())\n",
    "#print(b.board)\n",
    "#print(check_score(b.board, 1))\n",
    "#print(reformat2(b))\"\"\""
   ]
  },
  {
   "cell_type": "code",
   "execution_count": null,
   "metadata": {},
   "outputs": [],
   "source": []
  },
  {
   "cell_type": "code",
   "execution_count": null,
   "metadata": {},
   "outputs": [],
   "source": []
  }
 ],
 "metadata": {
  "kernelspec": {
   "display_name": "Python 3",
   "language": "python",
   "name": "python3"
  },
  "language_info": {
   "codemirror_mode": {
    "name": "ipython",
    "version": 3
   },
   "file_extension": ".py",
   "mimetype": "text/x-python",
   "name": "python",
   "nbconvert_exporter": "python",
   "pygments_lexer": "ipython3",
   "version": "3.7.4"
  }
 },
 "nbformat": 4,
 "nbformat_minor": 2
}
