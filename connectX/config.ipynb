{
 "cells": [
  {
   "cell_type": "code",
   "execution_count": 1,
   "metadata": {},
   "outputs": [],
   "source": [
    "mixing = 0.5\n",
    "batch_size = 60\n",
    "batch_size2 = 300\n",
    "#epochs = 10000\n",
    "epochs = 256\n",
    "#epochs = 2\n",
    "learning_rate = 10**(-2)\n",
    "output_size = 7\n",
    "output_size_valuehead = 16\n",
    "k = 16\n",
    "k2 = 8\n",
    "#proper_batch_size = 64\n",
    "#proper_batch_size = 16\n",
    "proper_batch_size = 2"
   ]
  },
  {
   "cell_type": "code",
   "execution_count": null,
   "metadata": {},
   "outputs": [],
   "source": [
    "%run helper.ipynb"
   ]
  }
 ],
 "metadata": {
  "kernelspec": {
   "display_name": "Python 3",
   "language": "python",
   "name": "python3"
  },
  "language_info": {
   "codemirror_mode": {
    "name": "ipython",
    "version": 3
   },
   "file_extension": ".py",
   "mimetype": "text/x-python",
   "name": "python",
   "nbconvert_exporter": "python",
   "pygments_lexer": "ipython3",
   "version": "3.7.4"
  }
 },
 "nbformat": 4,
 "nbformat_minor": 2
}
